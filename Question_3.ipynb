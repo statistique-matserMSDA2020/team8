{
 "cells": [
  {
   "cell_type": "markdown",
   "metadata": {},
   "source": [
    "# Projet de statistique MSDA_1\n",
    "</br>\n",
    "\n",
    "## Membre du groupe :\n",
    "> ### Souhoude OUEDRAOGO <br>\n",
    "> ### Ismael YODA <br>\n",
    "> ### Lassana BA <br>\n",
    "</br>\n",
    "\n",
    "\n",
    "\n",
    "\n",
    "## OUESTION_3\n",
    "<br>\n",
    "\n",
    "#### 1. Enregistrons les données dans un format adapté pour une lecture par la suite avec Python et Vérifions si nous avons une structure de 799 observations et 26 variables.\n"
   ]
  },
  {
   "cell_type": "code",
   "execution_count": 2,
   "metadata": {},
   "outputs": [
    {
     "data": {
      "text/plain": [
       "(799, 26)"
      ]
     },
     "execution_count": 2,
     "metadata": {},
     "output_type": "execute_result"
    }
   ],
   "source": [
    "import pandas as pd\n",
    "import numpy as np\n",
    "\n",
    "dta = pd.read_csv(\"smp.csv\")\n",
    "dta.shape\n"
   ]
  },
  {
   "cell_type": "markdown",
   "metadata": {},
   "source": [
    "nous avons enregistres nos donnees dans un format adapte et importer sur python grace a \"pandas.read_csv\", avec \"shape\" nous constatons effectivement une structure de 799 observations et 26 variables."
   ]
  },
  {
   "cell_type": "markdown",
   "metadata": {},
   "source": [
    "#### 2. Changeons les types des variables"
   ]
  },
  {
   "cell_type": "code",
   "execution_count": 114,
   "metadata": {},
   "outputs": [
    {
     "data": {
      "text/plain": [
       "age              float64\n",
       "prof            category\n",
       "duree           category\n",
       "discip          category\n",
       "n.enfant         float64\n",
       "n.fratrie          int64\n",
       "ecole           category\n",
       "separation      category\n",
       "juge.enfant     category\n",
       "place           category\n",
       "abus            category\n",
       "grav.cons       category\n",
       "dep.cons        category\n",
       "ago.cons        category\n",
       "ptsd.cons       category\n",
       "alc.cons        category\n",
       "subst.cons      category\n",
       "scz.cons        category\n",
       "char            category\n",
       "rs              category\n",
       "ed              category\n",
       "dr              category\n",
       "suicide.s        float64\n",
       "suicide.hr      category\n",
       "suicide.past    category\n",
       "dur.interv       float64\n",
       "dtype: object"
      ]
     },
     "execution_count": 114,
     "metadata": {},
     "output_type": "execute_result"
    }
   ],
   "source": [
    "dta['prof'] = dta['prof'].astype('category')\n",
    "dta['duree'] = dta['duree'].astype('category')\n",
    "dta['discip'] = dta['discip'].astype('category')\n",
    "dta['ecole'] = dta['ecole'].astype('category')\n",
    "dta['separation'] = dta['separation'].astype('category')\n",
    "dta['juge.enfant'] = dta['juge.enfant'].astype('category')\n",
    "dta['place'] = dta['place'].astype('category')\n",
    "dta['abus'] = dta['abus'].astype('category')\n",
    "dta['grav.cons'] = dta['grav.cons'].astype('category')\n",
    "dta['dep.cons'] = dta['dep.cons'].astype('category')\n",
    "dta['ago.cons'] = dta['ago.cons'].astype('category')\n",
    "dta['ptsd.cons'] = dta['ptsd.cons'].astype('category')\n",
    "dta['alc.cons'] = dta['alc.cons'].astype('category')\n",
    "dta['scz.cons'] = dta['scz.cons'].astype('category')\n",
    "dta['subst.cons'] = dta['subst.cons'].astype('category')\n",
    "dta['char'] = dta['char'].astype('category')\n",
    "dta['rs'] = dta['rs'].astype('category')\n",
    "dta['ed'] = dta['ed'].astype('category')\n",
    "dta['dr'] = dta['dr'].astype('category')\n",
    "dta['suicide.hr'] = dta['suicide.hr'].astype('category')\n",
    "dta['suicide.past'] = dta['suicide.past'].astype('category')\n",
    "\n",
    "\n",
    "dta.dtypes\n",
    "\n",
    "\n"
   ]
  },
  {
   "cell_type": "markdown",
   "metadata": {},
   "source": [
    "Nous avons changer le types des variables avec la fonction \"astype()\" et apres verification avec \"dtype\" nous obtenons les resultats attendues."
   ]
  },
  {
   "cell_type": "markdown",
   "metadata": {},
   "source": [
    "#### 3. Calculons la moyenne, la variance, et l’écart type pour chacune des variables age,n.enfant,n.fratrie, dur.interv. et donnons les 3 premiers quantiles pour la variable age."
   ]
  },
  {
   "cell_type": "code",
   "execution_count": 115,
   "metadata": {},
   "outputs": [
    {
     "name": "stdout",
     "output_type": "stream",
     "text": [
      "Pour la variable age\n",
      "\n",
      "age moyen de ces prisonniers est :  38.89962358845671\n",
      "la variance de l'age est :  176.1630738859178\n",
      "l'eccart type de l'age est :  13.27264381673515\n",
      "le 1er  quantile de la variable age est : 28.0\n",
      "le 2eme  quantile de la variable age est :  37.0\n",
      "le 3eme  quantile de la variable age est :  48.0\n",
      "\n",
      "Pour la variable n.fratrie\n",
      "\n",
      "la taille moyenne de la fratrie de ces prisonniers est ;  4.286608260325407\n",
      "la variance du taille de la fratrie est :  11.828994628767783\n",
      "l'eccart type du taille de la fratrie est  :  3.439330549506369\n",
      "\n",
      "Pour la variable dur.inetrv\n",
      "\n",
      "la duree moyenne de l'interview est :  61.89185580774366\n",
      "la variance de la duree de l'interview est :  386.3768228577131\n",
      "l'eccart du taille typede la duree de l'interview est :  19.656470254288106\n"
     ]
    }
   ],
   "source": [
    "print(\"Pour la variable age\")\n",
    "\n",
    "moyenne_age = np.mean(dta['age'])\n",
    "variance_age = np.var(dta['age'])\n",
    "eccartype_age = np.std(dta['age'])\n",
    "\n",
    "print(\"\\nage moyen de ces prisonniers est : \",moyenne_age)\n",
    "print(\"la variance de l'age est : \",variance_age)\n",
    "print(\"l'eccart type de l'age est : \",eccartype_age)\n",
    "\n",
    "quantile1_age = np.nanquantile(dta['age'],0.25)\n",
    "quantile2_age = np.nanquantile(dta['age'],0.50)\n",
    "quantile3_age = np.nanquantile(dta['age'],0.75)\n",
    "\n",
    "print(\"le 1er  quantile de la variable age est :\" ,quantile1_age )\n",
    "print(\"le 2eme  quantile de la variable age est : \" ,quantile2_age)\n",
    "print(\"le 3eme  quantile de la variable age est : \" ,quantile3_age)\n",
    "\n",
    "\n",
    "print(\"\\nPour la variable n.fratrie\")\n",
    "\n",
    "moyenne_nfratie =  np.mean(dta['n.fratrie'])\n",
    "variance_nfratie =  np.var(dta['n.fratrie'])\n",
    "eccartype_nfratie =  np.std(dta['n.fratrie'])\n",
    "\n",
    "print(\"\\nla taille moyenne de la fratrie de ces prisonniers est ; \",moyenne_nfratie)\n",
    "print(\"la variance du taille de la fratrie est : \",variance_nfratie)\n",
    "print(\"l'eccart type du taille de la fratrie est  : \",eccartype_nfratie)\n",
    "\n",
    "\n",
    "print(\"\\nPour la variable dur.inetrv\")\n",
    "\n",
    "moyenne_durinterv = np.mean(dta['dur.interv'])\n",
    "variance_durinterv = np.var(dta['dur.interv'])\n",
    "eccartype_durinterv = np.std(dta['dur.interv'])\n",
    "\n",
    "\n",
    "print(\"\\nla duree moyenne de l'interview est : \",moyenne_durinterv)\n",
    "print(\"la variance de la duree de l'interview est : \",variance_durinterv)\n",
    "print(\"l'eccart du taille typede la duree de l'interview est : \", eccartype_durinterv)"
   ]
  },
  {
   "cell_type": "markdown",
   "metadata": {},
   "source": [
    "Les calculs ont etes faites en utilsant la librairie numpy et pour le cas specifique des quartiles\n",
    "pour la variable age nous avons utilises \"nanquantile\" au depend de \"quantile\" car la variable \n",
    "contenait des valeurs manquantes."
   ]
  },
  {
   "cell_type": "code",
   "execution_count": null,
   "metadata": {},
   "outputs": [],
   "source": []
  },
  {
   "cell_type": "markdown",
   "metadata": {},
   "source": [
    "#### 4. Tracons le boxplot pour la variable age et en tirez des conclusions ?"
   ]
  },
  {
   "cell_type": "code",
   "execution_count": 116,
   "metadata": {},
   "outputs": [
    {
     "name": "stdout",
     "output_type": "stream",
     "text": [
      "False    795\n",
      "True       4\n",
      "Name: age, dtype: int64\n"
     ]
    },
    {
     "data": {
      "image/png": "[encoded data removed]",
      "text/plain": [
       "<Figure size 432x288 with 1 Axes>"
      ]
     },
     "metadata": {
      "needs_background": "light"
     },
     "output_type": "display_data"
    }
   ],
   "source": [
    "dta.boxplot('age')\n",
    "\n",
    "print((dta['age']>78).value_counts())"
   ]
  },
  {
   "cell_type": "markdown",
   "metadata": {},
   "source": [
    "Nous avons tracer le boxplot avec \"boxplot\" .....\n",
    "\n",
    "apres avoir visualiser ce nombre avec \"value_count\" nous aobtenons 4"
   ]
  },
  {
   "cell_type": "markdown",
   "metadata": {},
   "source": [
    "##### 5. Affichons les données pour les agriculteurs qui ont plus de 2 enfants."
   ]
  },
  {
   "cell_type": "code",
   "execution_count": 117,
   "metadata": {},
   "outputs": [
    {
     "name": "stdout",
     "output_type": "stream",
     "text": [
      "      age         prof duree discip  n.enfant  n.fratrie ecole separation  \\\n",
      "14   64.0  agriculteur   NaN    0.0       3.0          2   1.0        0.0   \n",
      "311  42.0  agriculteur   4.0    0.0       3.0          6   1.0        0.0   \n",
      "390  36.0  agriculteur   4.0    1.0       3.0          4   3.0        1.0   \n",
      "441  79.0  agriculteur   5.0    0.0       5.0          6   2.0        0.0   \n",
      "\n",
      "    juge.enfant place  ... subst.cons scz.cons char   rs   ed   dr suicide.s  \\\n",
      "14          0.0   0.0  ...          0        0  1.0  1.0  1.0  3.0       0.0   \n",
      "311         0.0   0.0  ...          0        0  2.0  1.0  3.0  2.0       3.0   \n",
      "390         1.0   1.0  ...          1        0  1.0  NaN  3.0  1.0       0.0   \n",
      "441         0.0   0.0  ...          0        0  1.0  2.0  1.0  1.0       0.0   \n",
      "\n",
      "    suicide.hr suicide.past dur.interv  \n",
      "14         0.0          0.0       80.0  \n",
      "311        1.0          0.0        NaN  \n",
      "390        0.0          0.0        NaN  \n",
      "441        0.0          0.0       85.0  \n",
      "\n",
      "[4 rows x 26 columns]\n"
     ]
    }
   ],
   "source": [
    "agriculteur_plusde2enfant = dta.loc[(dta['prof'] == \"agriculteur\") & (dta['n.enfant'] > 2) ,:]\n",
    "\n",
    "print(agriculteur_plusde2enfant )"
   ]
  },
  {
   "cell_type": "markdown",
   "metadata": {},
   "source": [
    "Nous denombrons quatres personnes respectans ces conditions, nous avons puis filtrer les donnees\n",
    "grace a \".loc[,]\""
   ]
  },
  {
   "cell_type": "markdown",
   "metadata": {},
   "source": [
    "#### 6. Calculons les fréquences des modalités de la variable prof et donnons la catégorie modale "
   ]
  },
  {
   "cell_type": "code",
   "execution_count": 118,
   "metadata": {},
   "outputs": [
    {
     "name": "stdout",
     "output_type": "stream",
     "text": [
      "ouvrier               227\n",
      "sans emploi           222\n",
      "employe               135\n",
      "artisan                90\n",
      "prof.intermediaire     58\n",
      "autre                  31\n",
      "cadre                  24\n",
      "agriculteur             6\n",
      "Name: prof, dtype: int64\n",
      "dict_keys(['ouvrier', 'sans emploi', 'employe', 'artisan', 'prof.intermediaire', 'autre', 'cadre', 'agriculteur'])\n",
      "\n",
      "      ouvrier  sans emploi   employe    artisan  prof.intermediaire     autre  \\\n",
      "0  28.625473    27.994956  17.02396  11.349306            7.313997  3.909206   \n",
      "\n",
      "      cadre  agriculteur  total  \n",
      "0  3.026482      0.75662  100.0  \n"
     ]
    }
   ],
   "source": [
    "x = pd.value_counts(dta['prof'])\n",
    "print(x)\n",
    "dictionnaire_prof = dict(x)\n",
    "clef_prof = dictionnaire_prof.keys()\n",
    "print(clef_prof)\n",
    "frequence_prof = pd.DataFrame(dictionnaire_prof,columns = clef_prof, index=[0])\n",
    "frequence_prof['total'] = frequence_prof.sum(axis=1)\n",
    "for names, values in frequence_prof.iteritems(): \n",
    "    frequence_prof['{name}'.format(name=names)] = 100 * frequence_prof['{name}'.format(name=names)]/frequence_prof['total']\n",
    "    \n",
    "print(\"\\n\",frequence_prof)"
   ]
  },
  {
   "cell_type": "markdown",
   "metadata": {},
   "source": [
    "La cotegorie modal est ouvrier\n",
    "\n"
   ]
  },
  {
   "cell_type": "markdown",
   "metadata": {},
   "source": [
    "#### 7. Tracons le diagramme circulaire de la variable profession"
   ]
  },
  {
   "cell_type": "code",
   "execution_count": 119,
   "metadata": {},
   "outputs": [
    {
     "data": {
      "text/plain": [
       "<matplotlib.axes._subplots.AxesSubplot at 0x26afe57ff88>"
      ]
     },
     "execution_count": 119,
     "metadata": {},
     "output_type": "execute_result"
    },
    {
     "data": {
      "image/png": "[encoded data removed]",
      "text/plain": [
       "<Figure size 432x288 with 1 Axes>"
      ]
     },
     "metadata": {},
     "output_type": "display_data"
    }
   ],
   "source": [
    "dta['prof'].value_counts().plot.pie()"
   ]
  },
  {
   "cell_type": "markdown",
   "metadata": {},
   "source": [
    "#### 8. Donner les moyennes des âges par profession"
   ]
  },
  {
   "cell_type": "code",
   "execution_count": 120,
   "metadata": {},
   "outputs": [
    {
     "name": "stdout",
     "output_type": "stream",
     "text": [
      "                          age\n",
      "prof                         \n",
      "agriculteur         48.833333\n",
      "artisan             45.111111\n",
      "autre               34.935484\n",
      "cadre               50.083333\n",
      "employe             38.711111\n",
      "ouvrier             37.396476\n",
      "prof.intermediaire  43.258621\n",
      "sans emploi         35.896396\n"
     ]
    }
   ],
   "source": [
    "print(dta.pivot_table(index=['prof'],values=['age'],aggfunc = pd.Series.mean))\n"
   ]
  },
  {
   "cell_type": "markdown",
   "metadata": {},
   "source": []
  },
  {
   "cell_type": "markdown",
   "metadata": {},
   "source": [
    "#### 9. Donnons la table des effectifs pour les variables prof incluant les ”NaN”."
   ]
  },
  {
   "cell_type": "code",
   "execution_count": 121,
   "metadata": {},
   "outputs": [
    {
     "name": "stdout",
     "output_type": "stream",
     "text": [
      "ouvrier               227\n",
      "sans emploi           222\n",
      "employe               135\n",
      "artisan                90\n",
      "prof.intermediaire     58\n",
      "autre                  31\n",
      "cadre                  24\n",
      "NaN                     6\n",
      "agriculteur             6\n",
      "Name: prof, dtype: int64\n"
     ]
    }
   ],
   "source": [
    "print(pd.value_counts(dta['prof'], dropna = False))"
   ]
  },
  {
   "cell_type": "code",
   "execution_count": null,
   "metadata": {},
   "outputs": [],
   "source": []
  },
  {
   "cell_type": "markdown",
   "metadata": {},
   "source": [
    "#### 10. Donnons le nombre de ”Nan” pour chaque variable.\n"
   ]
  },
  {
   "cell_type": "code",
   "execution_count": 122,
   "metadata": {},
   "outputs": [
    {
     "name": "stdout",
     "output_type": "stream",
     "text": [
      "age 2\n",
      "prof 6\n",
      "duree 223\n",
      "discip 6\n",
      "n.enfant 26\n",
      "ecole 5\n",
      "separation 11\n",
      "juge.enfant 5\n",
      "place 7\n",
      "abus 7\n",
      "grav.cons 4\n",
      "char 96\n",
      "rs 103\n",
      "ed 107\n",
      "dr 111\n",
      "suicide.s 41\n",
      "suicide.hr 39\n",
      "suicide.past 14\n",
      "dur.interv 50\n"
     ]
    }
   ],
   "source": [
    "manquante = dta.columns[dta.isnull().any()]\n",
    "for column in manquante:\n",
    "       print(column, dta[column].isnull().sum())"
   ]
  },
  {
   "cell_type": "markdown",
   "metadata": {},
   "source": [
    "#### 11. Supprimer toutes les lignes contenant des ”Nan”."
   ]
  },
  {
   "cell_type": "code",
   "execution_count": 123,
   "metadata": {},
   "outputs": [
    {
     "name": "stdout",
     "output_type": "stream",
     "text": [
      "(403, 26)\n"
     ]
    }
   ],
   "source": [
    "dta = dta.dropna()\n",
    "print(dta.shape)"
   ]
  },
  {
   "cell_type": "markdown",
   "metadata": {},
   "source": [
    "#### 12. Tracons l’histogramme et la densité de la variable age sur la même figure."
   ]
  },
  {
   "cell_type": "code",
   "execution_count": 124,
   "metadata": {},
   "outputs": [
    {
     "data": {
      "image/png": "[encoded data removed]",
      "text/plain": [
       "<Figure size 432x288 with 1 Axes>"
      ]
     },
     "metadata": {
      "needs_background": "light"
     },
     "output_type": "display_data"
    }
   ],
   "source": [
    "import matplotlib.pyplot as plt\n",
    "fig, ax = plt.subplots()\n",
    "dta['age'].plot.kde(ax=ax, legend=False, title='histogramme des ages', color='r', linewidth='5')\n",
    "dta['age'].plot.hist(density=True, ax=ax, color='blue')\n",
    "ax.set_ylabel('EFFECTIF')\n",
    "ax.grid(axis='y')\n",
    "ax.set_facecolor('white')"
   ]
  },
  {
   "cell_type": "code",
   "execution_count": null,
   "metadata": {},
   "outputs": [],
   "source": []
  },
  {
   "cell_type": "markdown",
   "metadata": {},
   "source": [
    "#### 13. Discrétisons la variable age. Pour ce faire nous ajouterons une variable dans le DataFrame des données une nouvelle variable nommée age_classe. Cette variable aura 4 classes :[min(age), Q1], ]Q1, Q2], ]Q2, Q3], ]Q3, max(age)]."
   ]
  },
  {
   "cell_type": "code",
   "execution_count": 125,
   "metadata": {},
   "outputs": [],
   "source": [
    "def age_groups(s):\n",
    "    if (s >= np.min(dta['age']) and s <= np.quantile(dta['age'],0.25)):\n",
    "        return \"A\"\n",
    "    elif ( s > np.quantile(dta['age'],0.25) and s <= np.quantile(dta['age'],0.5) ) :\n",
    "        return \"B\"\n",
    "    elif  ( s > np.quantile(dta['age'],0.5) and s <= np.quantile(dta['age'],0.75) ):\n",
    "        return \"C\"\n",
    "    else :\n",
    "        return \"D\"\n",
    "\n",
    "\n",
    "dta['age_classe'] = dta['age'].apply(age_groups)"
   ]
  },
  {
   "cell_type": "code",
   "execution_count": 126,
   "metadata": {},
   "outputs": [
    {
     "name": "stdout",
     "output_type": "stream",
     "text": [
      "7      D\n",
      "8      C\n",
      "12     A\n",
      "13     B\n",
      "16     D\n",
      "      ..\n",
      "793    A\n",
      "795    C\n",
      "796    A\n",
      "797    B\n",
      "798    D\n",
      "Name: age_classe, Length: 403, dtype: category\n",
      "Categories (4, object): [A, B, C, D]\n"
     ]
    }
   ],
   "source": [
    "dta.dtypes\n",
    "dta.shape\n",
    "\n",
    "dta['age_classe'] = dta['age_classe'].astype('category')\n",
    "print(dta['age_classe'])"
   ]
  },
  {
   "cell_type": "markdown",
   "metadata": {},
   "source": [
    "#### 14. Donnons les fréquences des modalités de la nouvelle variable age_classe."
   ]
  },
  {
   "cell_type": "code",
   "execution_count": 127,
   "metadata": {},
   "outputs": [
    {
     "data": {
      "text/plain": [
       "A    107\n",
       "B    104\n",
       "D     96\n",
       "C     96\n",
       "Name: age_classe, dtype: int64"
      ]
     },
     "execution_count": 127,
     "metadata": {},
     "output_type": "execute_result"
    }
   ],
   "source": [
    " pd.value_counts(dta['age_classe']) "
   ]
  },
  {
   "cell_type": "code",
   "execution_count": null,
   "metadata": {},
   "outputs": [],
   "source": []
  }
 ],
 "metadata": {
  "kernelspec": {
   "display_name": "Python 3",
   "language": "python",
   "name": "python3"
  },
  "language_info": {
   "codemirror_mode": {
    "name": "ipython",
    "version": 3
   },
   "file_extension": ".py",
   "mimetype": "text/x-python",
   "name": "python",
   "nbconvert_exporter": "python",
   "pygments_lexer": "ipython3",
   "version": "3.7.4"
  }
 },
 "nbformat": 4,
 "nbformat_minor": 4
}
